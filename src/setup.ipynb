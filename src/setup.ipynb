{
 "cells": [
  {
   "cell_type": "code",
   "execution_count": 3,
   "metadata": {},
   "outputs": [],
   "source": [
    "#Class for input and output of data
    "class DataProcessor:\n",
    "    import json\n",
    "    from pyspark.sql import SparkSession\n",
    "    from pyspark.sql import SparkSession, DataFrame\n",
    "    from pyspark.sql.functions import count, instr, lower, dense_rank, col, countDistinct, sum\n",
    "    from pyspark.sql.window import Window\n",
    "    \n",
    "\n",
    "    def __init__(self, config_path):\n",
    "        with open(config_path, 'r') as config_file:\n",
    "            self.config = json.load(config_file)\n",
    "     \n",
    "    def read_input_files(self):\n",
    "        input_files = self.config['INPUT_FILENAME']\n",
    "        self.charges_df = self.spark.read.csv(input_files['Charges'], header=True, inferSchema=True)\n",
    "        self.damages_df = self.spark.read.csv(input_files['Damages'], header=True, inferSchema=True)\n",
    "        self.endorse_df = self.spark.read.csv(input_files['Endorse'], header=True, inferSchema=True)\n",
    "        self.primary_person_df = self.spark.read.csv(input_files['Primary_Person'], header=True, inferSchema=True)\n",
    "        self.units_df = self.spark.read.csv(input_files['Units'], header=True, inferSchema=True)\n",
    "        self.restrict_df = self.spark.read.csv(input_files['Restrict'], header=True, inferSchema=True)\n",
    "        \n",
    "    def get_output_path(self, problem_number):\n",
    "        output_path = self.config['OUTPUT_PATH']\n",
    "        return output_path[problem_number]\n",
    "    \n",
    "    def write_output(self, df, problem_number, format):\n",
    "        output_format = self.config['FILE_FORMAT']['Output']\n",
    "        df.write.format(format).save(self.get_output_path(problem_number))\n",
    "\n",
    "config_path = \"C:/Users/ankita.khanna/Desktop/Project/config.json\"\n",
    "data_processor = DataProcessor(config_path)\n",
    "data_processor.read_input_files()\n",
    "\n"
   ]
  }
 ],
 "metadata": {
  "kernelspec": {
   "display_name": "pyspark-env",
   "language": "python",
   "name": "python3"
  },
  "language_info": {
   "codemirror_mode": {
    "name": "ipython",
    "version": 3
   },
   "file_extension": ".py",
   "mimetype": "text/x-python",
   "name": "python",
   "nbconvert_exporter": "python",
   "pygments_lexer": "ipython3",
   "version": "3.12.3"
  }
 },
 "nbformat": 4,
 "nbformat_minor": 2
}
